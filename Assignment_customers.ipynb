{
 "cells": [
  {
   "cell_type": "code",
   "execution_count": 2,
   "metadata": {},
   "outputs": [
    {
     "name": "stdout",
     "output_type": "stream",
     "text": [
      "   customer_id           customer_name  \\\n",
      "0            1         Shlok Rajagopal   \n",
      "1            2  Priyansh Bhattacharyya   \n",
      "2            3           Himmat Ramesh   \n",
      "3            4      Samiha Subramaniam   \n",
      "4            5            Miraan Bhatt   \n",
      "\n",
      "                                  address       city                 email  \\\n",
      "0      H.No. 36\\nBoase Road, Siwan 552520     Mumbai      tgopal@gmail.com   \n",
      "1   H.No. 90, Balay Nagar\\nDanapur 271287      Delhi     zsehgal@gmail.com   \n",
      "2        73\\nThaman Ganj\\nJamnagar-040415     Mumbai  pranaydhar@badal.com   \n",
      "3              238\\nMander, Nagaon-126157  Ahmedabad   nirvi90@hotmail.com   \n",
      "4  05/55\\nSandhu Road, Mahbubnagar 248594    Kolkata  neysa32@varghese.com   \n",
      "\n",
      "   phone_number  \n",
      "0  910056422150  \n",
      "1    9101044637  \n",
      "2  917424163988  \n",
      "3    9093460188  \n",
      "4    1569905742  \n"
     ]
    }
   ],
   "source": [
    "#displaying the first 5 rows of the dataset\n",
    "import pandas as pd\n",
    "file_path = r\"C:\\Users\\KIIT0001\\OneDrive\\Desktop\\Swiggy dataset\\customers.csv\"\n",
    "df = pd.read_csv(file_path)\n",
    "print(df.head())"
   ]
  },
  {
   "cell_type": "code",
   "execution_count": 3,
   "metadata": {},
   "outputs": [
    {
     "name": "stdout",
     "output_type": "stream",
     "text": [
      "\n",
      "Displaying datatype\n"
     ]
    },
    {
     "data": {
      "text/plain": [
       "customer_id       int64\n",
       "customer_name    object\n",
       "address          object\n",
       "city             object\n",
       "email            object\n",
       "phone_number      int64\n",
       "dtype: object"
      ]
     },
     "execution_count": 3,
     "metadata": {},
     "output_type": "execute_result"
    }
   ],
   "source": [
    "#checking data types\n",
    "print(\"\\nDisplaying datatype\")\n",
    "df.dtypes\n"
   ]
  },
  {
   "cell_type": "code",
   "execution_count": 4,
   "metadata": {},
   "outputs": [
    {
     "name": "stdout",
     "output_type": "stream",
     "text": [
      "\n",
      "Dataframe info:\n",
      "<class 'pandas.core.frame.DataFrame'>\n",
      "RangeIndex: 500 entries, 0 to 499\n",
      "Data columns (total 6 columns):\n",
      " #   Column         Non-Null Count  Dtype \n",
      "---  ------         --------------  ----- \n",
      " 0   customer_id    500 non-null    int64 \n",
      " 1   customer_name  500 non-null    object\n",
      " 2   address        500 non-null    object\n",
      " 3   city           500 non-null    object\n",
      " 4   email          500 non-null    object\n",
      " 5   phone_number   500 non-null    int64 \n",
      "dtypes: int64(2), object(4)\n",
      "memory usage: 23.6+ KB\n"
     ]
    }
   ],
   "source": [
    "#displaying dataframe information\n",
    "print(\"\\nDataframe info:\")\n",
    "df.info()"
   ]
  },
  {
   "cell_type": "code",
   "execution_count": 6,
   "metadata": {},
   "outputs": [
    {
     "name": "stdout",
     "output_type": "stream",
     "text": [
      "\n",
      "Dataframe descriptions:\n"
     ]
    },
    {
     "data": {
      "text/html": [
       "<div>\n",
       "<style scoped>\n",
       "    .dataframe tbody tr th:only-of-type {\n",
       "        vertical-align: middle;\n",
       "    }\n",
       "\n",
       "    .dataframe tbody tr th {\n",
       "        vertical-align: top;\n",
       "    }\n",
       "\n",
       "    .dataframe thead th {\n",
       "        text-align: right;\n",
       "    }\n",
       "</style>\n",
       "<table border=\"1\" class=\"dataframe\">\n",
       "  <thead>\n",
       "    <tr style=\"text-align: right;\">\n",
       "      <th></th>\n",
       "      <th>customer_id</th>\n",
       "      <th>phone_number</th>\n",
       "    </tr>\n",
       "  </thead>\n",
       "  <tbody>\n",
       "    <tr>\n",
       "      <th>count</th>\n",
       "      <td>500.000000</td>\n",
       "      <td>5.000000e+02</td>\n",
       "    </tr>\n",
       "    <tr>\n",
       "      <th>mean</th>\n",
       "      <td>250.500000</td>\n",
       "      <td>2.797681e+11</td>\n",
       "    </tr>\n",
       "    <tr>\n",
       "      <th>std</th>\n",
       "      <td>144.481833</td>\n",
       "      <td>4.183424e+11</td>\n",
       "    </tr>\n",
       "    <tr>\n",
       "      <th>min</th>\n",
       "      <td>1.000000</td>\n",
       "      <td>7.160831e+07</td>\n",
       "    </tr>\n",
       "    <tr>\n",
       "      <th>25%</th>\n",
       "      <td>125.750000</td>\n",
       "      <td>3.227026e+09</td>\n",
       "    </tr>\n",
       "    <tr>\n",
       "      <th>50%</th>\n",
       "      <td>250.500000</td>\n",
       "      <td>7.131423e+09</td>\n",
       "    </tr>\n",
       "    <tr>\n",
       "      <th>75%</th>\n",
       "      <td>375.250000</td>\n",
       "      <td>9.116095e+11</td>\n",
       "    </tr>\n",
       "    <tr>\n",
       "      <th>max</th>\n",
       "      <td>500.000000</td>\n",
       "      <td>9.199835e+11</td>\n",
       "    </tr>\n",
       "  </tbody>\n",
       "</table>\n",
       "</div>"
      ],
      "text/plain": [
       "       customer_id  phone_number\n",
       "count   500.000000  5.000000e+02\n",
       "mean    250.500000  2.797681e+11\n",
       "std     144.481833  4.183424e+11\n",
       "min       1.000000  7.160831e+07\n",
       "25%     125.750000  3.227026e+09\n",
       "50%     250.500000  7.131423e+09\n",
       "75%     375.250000  9.116095e+11\n",
       "max     500.000000  9.199835e+11"
      ]
     },
     "execution_count": 6,
     "metadata": {},
     "output_type": "execute_result"
    }
   ],
   "source": [
    "#displaying all the statistical data of the dataset\n",
    "print(\"\\nDataframe descriptions:\")\n",
    "df.describe()"
   ]
  },
  {
   "cell_type": "code",
   "execution_count": 6,
   "metadata": {},
   "outputs": [
    {
     "data": {
      "text/html": [
       "<div>\n",
       "<style scoped>\n",
       "    .dataframe tbody tr th:only-of-type {\n",
       "        vertical-align: middle;\n",
       "    }\n",
       "\n",
       "    .dataframe tbody tr th {\n",
       "        vertical-align: top;\n",
       "    }\n",
       "\n",
       "    .dataframe thead th {\n",
       "        text-align: right;\n",
       "    }\n",
       "</style>\n",
       "<table border=\"1\" class=\"dataframe\">\n",
       "  <thead>\n",
       "    <tr style=\"text-align: right;\">\n",
       "      <th></th>\n",
       "      <th>customer_id</th>\n",
       "      <th>customer_name</th>\n",
       "      <th>address</th>\n",
       "      <th>city</th>\n",
       "      <th>email</th>\n",
       "      <th>phone_number</th>\n",
       "    </tr>\n",
       "  </thead>\n",
       "  <tbody>\n",
       "    <tr>\n",
       "      <th>286</th>\n",
       "      <td>287</td>\n",
       "      <td>Inaaya  Buch</td>\n",
       "      <td>63/37, Maharaj Nagar, Pallavaram-580913</td>\n",
       "      <td>Ahmedabad</td>\n",
       "      <td>tankritvik@hotmail.com</td>\n",
       "      <td>855937769</td>\n",
       "    </tr>\n",
       "    <tr>\n",
       "      <th>61</th>\n",
       "      <td>62</td>\n",
       "      <td>Onkar Ahuja</td>\n",
       "      <td>95/944\\nChawla Zila\\nPhagwara 070345</td>\n",
       "      <td>Ahmedabad</td>\n",
       "      <td>dhanuk94@hotmail.com</td>\n",
       "      <td>914661371357</td>\n",
       "    </tr>\n",
       "    <tr>\n",
       "      <th>248</th>\n",
       "      <td>249</td>\n",
       "      <td>Krish Sathe</td>\n",
       "      <td>23/02, Gade\\nAizawl-425274</td>\n",
       "      <td>Ahmedabad</td>\n",
       "      <td>eva29@gmail.com</td>\n",
       "      <td>7960586719</td>\n",
       "    </tr>\n",
       "    <tr>\n",
       "      <th>250</th>\n",
       "      <td>251</td>\n",
       "      <td>Charvi Mannan</td>\n",
       "      <td>H.No. 84, Johal Zila, Gopalpur-704279</td>\n",
       "      <td>Ahmedabad</td>\n",
       "      <td>jivin36@dalia.net</td>\n",
       "      <td>917839454114</td>\n",
       "    </tr>\n",
       "    <tr>\n",
       "      <th>258</th>\n",
       "      <td>259</td>\n",
       "      <td>Anika Gola</td>\n",
       "      <td>25\\nBarman\\nGhaziabad-733283</td>\n",
       "      <td>Ahmedabad</td>\n",
       "      <td>ubasu@kota.com</td>\n",
       "      <td>6930846840</td>\n",
       "    </tr>\n",
       "    <tr>\n",
       "      <th>...</th>\n",
       "      <td>...</td>\n",
       "      <td>...</td>\n",
       "      <td>...</td>\n",
       "      <td>...</td>\n",
       "      <td>...</td>\n",
       "      <td>...</td>\n",
       "    </tr>\n",
       "    <tr>\n",
       "      <th>41</th>\n",
       "      <td>42</td>\n",
       "      <td>Zara Jaggi</td>\n",
       "      <td>H.No. 733, Kala, Karawal Nagar 494503</td>\n",
       "      <td>Surat</td>\n",
       "      <td>gadenitara@sha.com</td>\n",
       "      <td>913717330594</td>\n",
       "    </tr>\n",
       "    <tr>\n",
       "      <th>39</th>\n",
       "      <td>40</td>\n",
       "      <td>Khushi Ghose</td>\n",
       "      <td>91\\nDave Street\\nThane-438605</td>\n",
       "      <td>Surat</td>\n",
       "      <td>goswamivaibhav@brahmbhatt.com</td>\n",
       "      <td>918747555077</td>\n",
       "    </tr>\n",
       "    <tr>\n",
       "      <th>142</th>\n",
       "      <td>143</td>\n",
       "      <td>Farhan Bajwa</td>\n",
       "      <td>679\\nDeo Street\\nBhalswa Jahangir Pur 713827</td>\n",
       "      <td>Surat</td>\n",
       "      <td>semvedika@chaudhary.com</td>\n",
       "      <td>914593967785</td>\n",
       "    </tr>\n",
       "    <tr>\n",
       "      <th>328</th>\n",
       "      <td>329</td>\n",
       "      <td>Nehmat Bhasin</td>\n",
       "      <td>H.No. 752\\nManne Marg, Durg-333308</td>\n",
       "      <td>Surat</td>\n",
       "      <td>neelofarshah@thaman-taneja.com</td>\n",
       "      <td>918725691186</td>\n",
       "    </tr>\n",
       "    <tr>\n",
       "      <th>98</th>\n",
       "      <td>99</td>\n",
       "      <td>Alisha Chaudhari</td>\n",
       "      <td>H.No. 129, Balasubramanian Road\\nEtawah-126155</td>\n",
       "      <td>Surat</td>\n",
       "      <td>fdewan@hotmail.com</td>\n",
       "      <td>7522822262</td>\n",
       "    </tr>\n",
       "  </tbody>\n",
       "</table>\n",
       "<p>500 rows × 6 columns</p>\n",
       "</div>"
      ],
      "text/plain": [
       "     customer_id     customer_name  \\\n",
       "286          287      Inaaya  Buch   \n",
       "61            62       Onkar Ahuja   \n",
       "248          249       Krish Sathe   \n",
       "250          251     Charvi Mannan   \n",
       "258          259        Anika Gola   \n",
       "..           ...               ...   \n",
       "41            42        Zara Jaggi   \n",
       "39            40      Khushi Ghose   \n",
       "142          143      Farhan Bajwa   \n",
       "328          329     Nehmat Bhasin   \n",
       "98            99  Alisha Chaudhari   \n",
       "\n",
       "                                            address       city  \\\n",
       "286         63/37, Maharaj Nagar, Pallavaram-580913  Ahmedabad   \n",
       "61             95/944\\nChawla Zila\\nPhagwara 070345  Ahmedabad   \n",
       "248                      23/02, Gade\\nAizawl-425274  Ahmedabad   \n",
       "250           H.No. 84, Johal Zila, Gopalpur-704279  Ahmedabad   \n",
       "258                    25\\nBarman\\nGhaziabad-733283  Ahmedabad   \n",
       "..                                              ...        ...   \n",
       "41            H.No. 733, Kala, Karawal Nagar 494503      Surat   \n",
       "39                    91\\nDave Street\\nThane-438605      Surat   \n",
       "142    679\\nDeo Street\\nBhalswa Jahangir Pur 713827      Surat   \n",
       "328              H.No. 752\\nManne Marg, Durg-333308      Surat   \n",
       "98   H.No. 129, Balasubramanian Road\\nEtawah-126155      Surat   \n",
       "\n",
       "                              email  phone_number  \n",
       "286          tankritvik@hotmail.com     855937769  \n",
       "61             dhanuk94@hotmail.com  914661371357  \n",
       "248                 eva29@gmail.com    7960586719  \n",
       "250               jivin36@dalia.net  917839454114  \n",
       "258                  ubasu@kota.com    6930846840  \n",
       "..                              ...           ...  \n",
       "41               gadenitara@sha.com  913717330594  \n",
       "39    goswamivaibhav@brahmbhatt.com  918747555077  \n",
       "142         semvedika@chaudhary.com  914593967785  \n",
       "328  neelofarshah@thaman-taneja.com  918725691186  \n",
       "98               fdewan@hotmail.com    7522822262  \n",
       "\n",
       "[500 rows x 6 columns]"
      ]
     },
     "execution_count": 6,
     "metadata": {},
     "output_type": "execute_result"
    }
   ],
   "source": [
    "#sorting by city\n",
    "df.sort_values(by='city')"
   ]
  },
  {
   "cell_type": "code",
   "execution_count": 10,
   "metadata": {},
   "outputs": [
    {
     "name": "stdout",
     "output_type": "stream",
     "text": [
      "\n",
      "Customers from Kolkata and Mumbai:\n",
      "     customer_id    customer_name  \\\n",
      "0              1  Shlok Rajagopal   \n",
      "2              3    Himmat Ramesh   \n",
      "4              5     Miraan Bhatt   \n",
      "10            11      Ayesha Dash   \n",
      "18            19      Purab Ghose   \n",
      "..           ...              ...   \n",
      "470          471       Misha Toor   \n",
      "487          488      Mishti Toor   \n",
      "489          490      Aarush Kara   \n",
      "490          491       Diya Boase   \n",
      "496          497        Azad Shan   \n",
      "\n",
      "                                           address     city  \\\n",
      "0               H.No. 36\\nBoase Road, Siwan 552520   Mumbai   \n",
      "2                 73\\nThaman Ganj\\nJamnagar-040415   Mumbai   \n",
      "4           05/55\\nSandhu Road, Mahbubnagar 248594  Kolkata   \n",
      "10                70/72\\nChawla Nagar\\nRewa 247206  Kolkata   \n",
      "18           H.No. 583\\nRamanathan, Sambhal-813179  Kolkata   \n",
      "..                                             ...      ...   \n",
      "470                    95\\nGuha Marg\\nJalna 539092   Mumbai   \n",
      "487  H.No. 20, Karan Ganj, Pimpri-Chinchwad 360419  Kolkata   \n",
      "489         79/55\\nRana Ganj, Visakhapatnam 708013  Kolkata   \n",
      "490                 133, Bhatia Marg\\nUdupi 504583  Kolkata   \n",
      "496                 78\\nSarkar Chowk, Morbi-766648  Kolkata   \n",
      "\n",
      "                                      email  phone_number  \n",
      "0                          tgopal@gmail.com  910056422150  \n",
      "2                      pranaydhar@badal.com  917424163988  \n",
      "4                      neysa32@varghese.com    1569905742  \n",
      "10                     ikar@mani-goyal.info  911164976803  \n",
      "18   yuvraj-rajagopal@yadav-subramanian.com  917752148548  \n",
      "..                                      ...           ...  \n",
      "470                          ashah@bali.biz    6133634457  \n",
      "487               sahotabhamini@hotmail.com    8379573288  \n",
      "489                       vbassi@baria.info    8917232802  \n",
      "490                  parinaaz94@hotmail.com    3400801435  \n",
      "496               samairabutala@hotmail.com  915742503380  \n",
      "\n",
      "[105 rows x 6 columns]\n"
     ]
    }
   ],
   "source": [
    "#displaying all the customers particularly from Kolkata and Mumbai\n",
    "print(\"\\nCustomers from Kolkata and Mumbai:\")\n",
    "print(df[df['city'].isin(['Kolkata', 'Mumbai'])])"
   ]
  },
  {
   "cell_type": "code",
   "execution_count": 8,
   "metadata": {},
   "outputs": [
    {
     "data": {
      "text/plain": [
       "city\n",
       "Delhi        56\n",
       "Chennai      56\n",
       "Kolkata      55\n",
       "Ahmedabad    54\n",
       "Mumbai       50\n",
       "Bengaluru    49\n",
       "Pune         47\n",
       "Hyderabad    47\n",
       "Surat        43\n",
       "Jaipur       43\n",
       "Name: count, dtype: int64"
      ]
     },
     "execution_count": 8,
     "metadata": {},
     "output_type": "execute_result"
    }
   ],
   "source": [
    "#count customers by city: \n",
    "df['city'].value_counts()"
   ]
  },
  {
   "cell_type": "code",
   "execution_count": 7,
   "metadata": {},
   "outputs": [
    {
     "data": {
      "text/plain": [
       "city\n",
       "Ahmedabad    54\n",
       "Bengaluru    49\n",
       "Chennai      56\n",
       "Delhi        56\n",
       "Hyderabad    47\n",
       "Jaipur       43\n",
       "Kolkata      55\n",
       "Mumbai       50\n",
       "Pune         47\n",
       "Surat        43\n",
       "Name: customer_id, dtype: int64"
      ]
     },
     "execution_count": 7,
     "metadata": {},
     "output_type": "execute_result"
    }
   ],
   "source": [
    "#grouping by city and count customers: \n",
    "df.groupby('city')['customer_id'].count()\n"
   ]
  },
  {
   "cell_type": "code",
   "execution_count": 12,
   "metadata": {},
   "outputs": [
    {
     "data": {
      "image/png": "[encoded data removed]",
      "text/plain": [
       "<Figure size 800x500 with 1 Axes>"
      ]
     },
     "metadata": {},
     "output_type": "display_data"
    }
   ],
   "source": [
    "import matplotlib.pyplot as plt\n",
    "\n",
    "plt.figure(figsize=(8, 5))\n",
    "plt.hist(df['city'], bins=50, color='skyblue', edgecolor='black')\n",
    "plt.xlabel('city')\n",
    "plt.ylabel('customer')\n",
    "plt.title('Histogram of customers from respective cities')\n",
    "plt.grid(True)\n",
    "plt.show()"
   ]
  }
 ],
 "metadata": {
  "kernelspec": {
   "display_name": "Python 3",
   "language": "python",
   "name": "python3"
  },
  "language_info": {
   "codemirror_mode": {
    "name": "ipython",
    "version": 3
   },
   "file_extension": ".py",
   "mimetype": "text/x-python",
   "name": "python",
   "nbconvert_exporter": "python",
   "pygments_lexer": "ipython3",
   "version": "3.12.3"
  }
 },
 "nbformat": 4,
 "nbformat_minor": 2
}
