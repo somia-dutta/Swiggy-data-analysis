{
 "cells": [
  {
   "cell_type": "code",
   "execution_count": 2,
   "metadata": {},
   "outputs": [
    {
     "name": "stdout",
     "output_type": "stream",
     "text": [
      "   partner_id    partner_name       city\n",
      "0           1      Taran Bala     Jaipur\n",
      "1           2     Madhav Iyer     Mumbai\n",
      "2           3  Myra Chaudhari  Bengaluru\n",
      "3           4   Jivika Gulati       Pune\n",
      "4           5    Taimur Dugal  Bengaluru\n"
     ]
    }
   ],
   "source": [
    "#displaying the first 5 rows of the dataset\n",
    "import pandas as pd\n",
    "file_path = r\"C:\\Users\\KIIT0001\\OneDrive\\Desktop\\Swiggy dataset\\delivery_partners.csv\"\n",
    "df = pd.read_csv(file_path)\n",
    "print(df.head())"
   ]
  },
  {
   "cell_type": "code",
   "execution_count": 6,
   "metadata": {},
   "outputs": [
    {
     "name": "stdout",
     "output_type": "stream",
     "text": [
      "\n",
      "Datatype\n"
     ]
    },
    {
     "data": {
      "text/plain": [
       "partner_id       int64\n",
       "partner_name    object\n",
       "city            object\n",
       "dtype: object"
      ]
     },
     "execution_count": 6,
     "metadata": {},
     "output_type": "execute_result"
    }
   ],
   "source": [
    "#checking data types:\n",
    "print(\"\\nDatatype\") \n",
    "df.dtypes"
   ]
  },
  {
   "cell_type": "code",
   "execution_count": 3,
   "metadata": {},
   "outputs": [
    {
     "name": "stdout",
     "output_type": "stream",
     "text": [
      "\n",
      "Dataframe info:\n",
      "<class 'pandas.core.frame.DataFrame'>\n",
      "RangeIndex: 500 entries, 0 to 499\n",
      "Data columns (total 3 columns):\n",
      " #   Column        Non-Null Count  Dtype \n",
      "---  ------        --------------  ----- \n",
      " 0   partner_id    500 non-null    int64 \n",
      " 1   partner_name  500 non-null    object\n",
      " 2   city          500 non-null    object\n",
      "dtypes: int64(1), object(2)\n",
      "memory usage: 11.8+ KB\n"
     ]
    }
   ],
   "source": [
    "#displaying dataframe information\n",
    "print(\"\\nDataframe info:\")\n",
    "df.info()"
   ]
  },
  {
   "cell_type": "code",
   "execution_count": 8,
   "metadata": {},
   "outputs": [
    {
     "name": "stdout",
     "output_type": "stream",
     "text": [
      "\n",
      "Dataframe descriptions:\n"
     ]
    },
    {
     "data": {
      "text/html": [
       "<div>\n",
       "<style scoped>\n",
       "    .dataframe tbody tr th:only-of-type {\n",
       "        vertical-align: middle;\n",
       "    }\n",
       "\n",
       "    .dataframe tbody tr th {\n",
       "        vertical-align: top;\n",
       "    }\n",
       "\n",
       "    .dataframe thead th {\n",
       "        text-align: right;\n",
       "    }\n",
       "</style>\n",
       "<table border=\"1\" class=\"dataframe\">\n",
       "  <thead>\n",
       "    <tr style=\"text-align: right;\">\n",
       "      <th></th>\n",
       "      <th>partner_id</th>\n",
       "    </tr>\n",
       "  </thead>\n",
       "  <tbody>\n",
       "    <tr>\n",
       "      <th>count</th>\n",
       "      <td>500.000000</td>\n",
       "    </tr>\n",
       "    <tr>\n",
       "      <th>mean</th>\n",
       "      <td>250.500000</td>\n",
       "    </tr>\n",
       "    <tr>\n",
       "      <th>std</th>\n",
       "      <td>144.481833</td>\n",
       "    </tr>\n",
       "    <tr>\n",
       "      <th>min</th>\n",
       "      <td>1.000000</td>\n",
       "    </tr>\n",
       "    <tr>\n",
       "      <th>25%</th>\n",
       "      <td>125.750000</td>\n",
       "    </tr>\n",
       "    <tr>\n",
       "      <th>50%</th>\n",
       "      <td>250.500000</td>\n",
       "    </tr>\n",
       "    <tr>\n",
       "      <th>75%</th>\n",
       "      <td>375.250000</td>\n",
       "    </tr>\n",
       "    <tr>\n",
       "      <th>max</th>\n",
       "      <td>500.000000</td>\n",
       "    </tr>\n",
       "  </tbody>\n",
       "</table>\n",
       "</div>"
      ],
      "text/plain": [
       "       partner_id\n",
       "count  500.000000\n",
       "mean   250.500000\n",
       "std    144.481833\n",
       "min      1.000000\n",
       "25%    125.750000\n",
       "50%    250.500000\n",
       "75%    375.250000\n",
       "max    500.000000"
      ]
     },
     "execution_count": 8,
     "metadata": {},
     "output_type": "execute_result"
    }
   ],
   "source": [
    "#displaying all the statistical data of the dataset\n",
    "print(\"\\nDataframe descriptions:\")\n",
    "df.describe()"
   ]
  },
  {
   "cell_type": "code",
   "execution_count": 9,
   "metadata": {},
   "outputs": [
    {
     "name": "stdout",
     "output_type": "stream",
     "text": [
      "\n",
      "Delivery partners from Kolkata and Mumbai:\n",
      "     partner_id            partner_name     city\n",
      "1             2             Madhav Iyer   Mumbai\n",
      "5             6            Tarini Ratti   Mumbai\n",
      "6             7             Jayan Kumar  Kolkata\n",
      "11           12            Prerak Madan   Mumbai\n",
      "14           15              Renee Yogi  Kolkata\n",
      "..          ...                     ...      ...\n",
      "482         483         Bhavin Varghese   Mumbai\n",
      "485         486             Azad Halder  Kolkata\n",
      "486         487           Jivika Bhatti   Mumbai\n",
      "491         492           Samarth Konda   Mumbai\n",
      "499         500  Pranay Balasubramanian  Kolkata\n",
      "\n",
      "[95 rows x 3 columns]\n"
     ]
    }
   ],
   "source": [
    "#displaying all the delivery partners from particularly from Kolkata and Mumbai\n",
    "print(\"\\nDelivery partners from Kolkata and Mumbai:\")\n",
    "print(df[df['city'].isin(['Kolkata', 'Mumbai'])])"
   ]
  },
  {
   "cell_type": "code",
   "execution_count": 7,
   "metadata": {},
   "outputs": [
    {
     "name": "stdout",
     "output_type": "stream",
     "text": [
      "\n",
      "Counting partners by each city\n"
     ]
    },
    {
     "data": {
      "text/plain": [
       "city\n",
       "Ahmedabad    60\n",
       "Bengaluru    35\n",
       "Chennai      48\n",
       "Delhi        47\n",
       "Hyderabad    58\n",
       "Jaipur       43\n",
       "Kolkata      51\n",
       "Mumbai       44\n",
       "Pune         52\n",
       "Surat        62\n",
       "Name: partner_id, dtype: int64"
      ]
     },
     "execution_count": 7,
     "metadata": {},
     "output_type": "execute_result"
    }
   ],
   "source": [
    "#grouping by city and counting partners:\n",
    "print(\"\\nCounting partners by each city\") \n",
    "df.groupby('city')['partner_id'].count()\n"
   ]
  },
  {
   "cell_type": "code",
   "execution_count": 10,
   "metadata": {},
   "outputs": [
    {
     "data": {
      "image/png": "[encoded data removed]",
      "text/plain": [
       "<Figure size 800x500 with 1 Axes>"
      ]
     },
     "metadata": {},
     "output_type": "display_data"
    }
   ],
   "source": [
    "import matplotlib.pyplot as plt\n",
    "\n",
    "plt.figure(figsize=(8, 5))\n",
    "plt.hist(df['city'], bins=50, color='skyblue', edgecolor='black')\n",
    "plt.xlabel('city')\n",
    "plt.ylabel('partner name')\n",
    "plt.title('Histogram of delivery partners from respective cities')\n",
    "plt.grid(True)\n",
    "plt.show()"
   ]
  },
  {
   "cell_type": "code",
   "execution_count": 8,
   "metadata": {},
   "outputs": [
    {
     "data": {
      "text/plain": [
       "<Axes: xlabel='city'>"
      ]
     },
     "execution_count": 8,
     "metadata": {},
     "output_type": "execute_result"
    },
    {
     "data": {
      "image/png": "[encoded data removed]",
      "text/plain": [
       "<Figure size 640x480 with 1 Axes>"
      ]
     },
     "metadata": {},
     "output_type": "display_data"
    }
   ],
   "source": [
    "#top 5 cities by partner count: \n",
    "df['city'].value_counts().nlargest(5).plot(kind='bar')"
   ]
  }
 ],
 "metadata": {
  "kernelspec": {
   "display_name": "Python 3",
   "language": "python",
   "name": "python3"
  },
  "language_info": {
   "codemirror_mode": {
    "name": "ipython",
    "version": 3
   },
   "file_extension": ".py",
   "mimetype": "text/x-python",
   "name": "python",
   "nbconvert_exporter": "python",
   "pygments_lexer": "ipython3",
   "version": "3.12.3"
  }
 },
 "nbformat": 4,
 "nbformat_minor": 2
}
